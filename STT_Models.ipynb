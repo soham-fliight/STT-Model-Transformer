{
  "nbformat": 4,
  "nbformat_minor": 0,
  "metadata": {
    "colab": {
      "provenance": [],
      "gpuType": "V28"
    },
    "kernelspec": {
      "name": "python3",
      "display_name": "Python 3"
    },
    "language_info": {
      "name": "python"
    },
    "accelerator": "TPU"
  },
  "cells": [
    {
      "cell_type": "markdown",
      "source": [
        "# Speech-to-Text (STT) Notebook\n",
        "A structured workflow for development and experimentation."
      ],
      "metadata": {
        "id": "uxG6FK8utBBB"
      }
    },
    {
      "cell_type": "markdown",
      "source": [
        "## Environment Setup (pip installs, conda setup, dependencies)"
      ],
      "metadata": {
        "id": "tGHCKQEhtIEy"
      }
    },
    {
      "cell_type": "code",
      "source": [
        "# !pip install https://github.com/huggingface/transformers/archive/main.zip torchaudio peft soundfile\n",
        "# !pip install https://files.pythonhosted.org/packages/fc/ca/83398cfcd557360a3d7b2d732aee1c5f6999f68618d1645f38d53e14c9ff/vosk-0.3.45-py3-none-manylinux_2_12_x86_64.manylinux2010_x86_64.whl\n",
        "# !pip -q install vosk pydub psutil jiwer\n",
        "# !pip -q install faster-whisper soundfile\n",
        "# !pip -q install transformers soundfile librosa jiwer psutil\n"
      ],
      "metadata": {
        "id": "gUFVXSTOtPAj"
      },
      "execution_count": 1,
      "outputs": []
    },
    {
      "cell_type": "markdown",
      "source": [
        "## Imports (all Python imports in one place)"
      ],
      "metadata": {
        "id": "vrquLnDrtI-9"
      }
    },
    {
      "cell_type": "code",
      "execution_count": 2,
      "metadata": {
        "id": "_dZQVLxds2UZ"
      },
      "outputs": [],
      "source": [
        "import torch\n",
        "from transformers import Speech2TextProcessor, Speech2TextForConditionalGeneration, AutoProcessor, AutoModelForSpeechSeq2Seq\n",
        "from datasets import load_dataset\n",
        "\n",
        "import vosk\n",
        "\n",
        "import torchaudio\n",
        "from huggingface_hub import hf_hub_download"
      ]
    },
    {
      "cell_type": "markdown",
      "source": [
        "## Configuration"
      ],
      "metadata": {
        "id": "4xsLoeDztUDL"
      }
    },
    {
      "cell_type": "code",
      "source": [],
      "metadata": {
        "id": "CsGkYVXOtVpo"
      },
      "execution_count": 2,
      "outputs": []
    },
    {
      "cell_type": "markdown",
      "source": [
        "## Data / Inputs"
      ],
      "metadata": {
        "id": "MFR1RaJDtYBL"
      }
    },
    {
      "cell_type": "code",
      "source": [],
      "metadata": {
        "id": "n7fzDASVtYds"
      },
      "execution_count": 2,
      "outputs": []
    },
    {
      "cell_type": "markdown",
      "source": [
        "# **Models**"
      ],
      "metadata": {
        "id": "emasNkqOtY1H"
      }
    },
    {
      "cell_type": "markdown",
      "source": [
        "## Facebook s2t-small-librispeech-asr"
      ],
      "metadata": {
        "id": "phRF74KItb1u"
      }
    },
    {
      "cell_type": "markdown",
      "source": [
        "### Model Setup"
      ],
      "metadata": {
        "id": "Rj1nk8f55pMs"
      }
    },
    {
      "cell_type": "code",
      "source": [
        "import transformers, torch\n",
        "print(\"Transformers:\", transformers.__version__, \"| Torch CUDA:\", torch.cuda.is_available())\n"
      ],
      "metadata": {
        "colab": {
          "base_uri": "https://localhost:8080/"
        },
        "id": "Hg0AMlvKtfqW",
        "outputId": "6cf512c2-e014-4ae4-8ee5-1d1971758c47"
      },
      "execution_count": 3,
      "outputs": [
        {
          "output_type": "stream",
          "name": "stdout",
          "text": [
            "Transformers: 4.56.0.dev0 | Torch CUDA: False\n"
          ]
        }
      ]
    },
    {
      "cell_type": "code",
      "source": [
        "import torch\n",
        "from transformers import Speech2TextProcessor, Speech2TextForConditionalGeneration\n",
        "\n",
        "MODEL_ID = \"facebook/s2t-small-librispeech-asr\"\n",
        "DEVICE = \"cuda\" if torch.cuda.is_available() else \"cpu\"\n",
        "\n",
        "processor = Speech2TextProcessor.from_pretrained(MODEL_ID)\n",
        "model = Speech2TextForConditionalGeneration.from_pretrained(MODEL_ID)\n",
        "model.to(DEVICE)  # keep float32; this model is stable in fp32\n",
        "\n",
        "print(\"Loaded:\", MODEL_ID, \"| Device:\", DEVICE)\n"
      ],
      "metadata": {
        "colab": {
          "base_uri": "https://localhost:8080/"
        },
        "id": "7ntzbBQm5uV5",
        "outputId": "21c651e6-a83d-437a-c18b-3f3a12602d65"
      },
      "execution_count": 4,
      "outputs": [
        {
          "output_type": "stream",
          "name": "stderr",
          "text": [
            "/usr/local/lib/python3.12/dist-packages/huggingface_hub/utils/_auth.py:94: UserWarning: \n",
            "The secret `HF_TOKEN` does not exist in your Colab secrets.\n",
            "To authenticate with the Hugging Face Hub, create a token in your settings tab (https://huggingface.co/settings/tokens), set it as secret in your Google Colab and restart your session.\n",
            "You will be able to reuse this secret in all of your notebooks.\n",
            "Please note that authentication is recommended but still optional to access public models or datasets.\n",
            "  warnings.warn(\n"
          ]
        },
        {
          "output_type": "stream",
          "name": "stdout",
          "text": [
            "Loaded: facebook/s2t-small-librispeech-asr | Device: cpu\n"
          ]
        }
      ]
    },
    {
      "cell_type": "markdown",
      "source": [
        "### Compute Model"
      ],
      "metadata": {
        "id": "_geA4mwe5w4B"
      }
    },
    {
      "cell_type": "code",
      "source": [
        "import time, psutil, numpy as np, soundfile as sf, librosa, torch\n",
        "\n",
        "AUDIO_PATH = \"/content/ref.wav\"\n",
        "\n",
        "# Load audio as mono 16 kHz float32\n",
        "# (librosa handles resampling; S2T uses 16k log-mels)\n",
        "wave, sr = librosa.load(AUDIO_PATH, sr=16_000, mono=True)\n",
        "audio_dur_sec = len(wave) / 16_000.0\n",
        "\n",
        "# Features\n",
        "inputs = processor(wave, sampling_rate=16_000, return_tensors=\"pt\")\n",
        "input_features = inputs.input_features.to(DEVICE)\n",
        "attn_mask = inputs.attention_mask.to(DEVICE) if \"attention_mask\" in inputs else None\n",
        "\n",
        "# Decode\n",
        "t0 = time.time()\n",
        "with torch.inference_mode():\n",
        "    generated_ids = model.generate(\n",
        "        input_features,\n",
        "        attention_mask=attn_mask,\n",
        "        max_length=448,     # safe cap; adjust if your files are long\n",
        "        num_beams=1,        # greedy for speed\n",
        "        do_sample=False\n",
        "    )\n",
        "wall = time.time() - t0\n",
        "\n",
        "# Text\n",
        "s2t_transcript = processor.batch_decode(generated_ids, skip_special_tokens=True)[0].strip()\n",
        "\n",
        "# Metrics\n",
        "rtf = wall / max(audio_dur_sec, 1e-6)\n",
        "proc = psutil.Process()\n",
        "mem_mb = proc.memory_info().rss / (1024**2)\n",
        "cpu_pct = psutil.cpu_percent(interval=0.2)\n",
        "\n",
        "print(\"— TRANSCRIPT —\")\n",
        "print(s2t_transcript if s2t_transcript else \"(empty)\")\n",
        "print(\"\\n— STATS —\")\n",
        "print(f\"duration_sec: {audio_dur_sec:.4f}\")\n",
        "print(f\"wall_time_sec: {wall:.4f}\")\n",
        "print(f\"real_time_factor: {rtf:.4f}\")\n",
        "print(f\"cpu_percent: {cpu_pct:.2f}\")\n",
        "print(f\"mem_rss_mb: {mem_mb:.2f}\")\n"
      ],
      "metadata": {
        "colab": {
          "base_uri": "https://localhost:8080/"
        },
        "id": "L1BfnqhW50f0",
        "outputId": "28fdad3d-f2ea-44f4-c022-c470f1d74ce5"
      },
      "execution_count": 5,
      "outputs": [
        {
          "output_type": "stream",
          "name": "stderr",
          "text": [
            "The following generation flags are not valid and may be ignored: ['early_stopping']. Set `TRANSFORMERS_VERBOSITY=info` for more details.\n"
          ]
        },
        {
          "output_type": "stream",
          "name": "stdout",
          "text": [
            "— TRANSCRIPT —\n",
            "let your descending currents are any to make sure you are climbing not the center of the gunwale to teach you to go say altitude but the following principle the futubo of the two are climb immediately climb the aeroplane maintain five thousand climbing up lamp leaves just level up the plane and climb the upside the five thousand when you can certainly begin to begin against it how you who so i shall have the fire a fire a fire is a fire of the first and a fire is a fire of the fire is a fire for the first and a fire and a fire of the fire of the fire and a fire is the fire and a fire and a fire and a fire and a feather so the fire and a fire and the fire and the fire and a fire and the fire is the fire is the fire is the fire so the fire and the fire and the fire and the fire and the fire and the fire and the fire is the fire is the fire is the fire is the fire is the fire and the fire and the fire and the fire and the fire and the fire and the fire and the fire and the fire and the fire and the fire and the fire is ready can's and the fire for the fire for the fire for the fire and the fire and the fire and the fire and the fire and the fire for the fire for the fire for the fire so the fire for the fire for the fire for the fire for the fire and the fire and the fire and the fire and the fire and the fire and the fire and the fire for the fire for the fire for the fire and the fire and the fire and the fire and the fire and the fire and the fire and the fire and the fire and the fire and the fire and the fire for the fire for the fire and the fire for the fire for the fire for the fire for the fire for you can's are for the fire and the fire for the fire is ready can's are for the fire and the fire and the fire and the fire and the fire and the fire and the fire and the fire for the fire for you can's are for the fire for you can's are\n",
            "\n",
            "— STATS —\n",
            "duration_sec: 26.5018\n",
            "wall_time_sec: 13.0093\n",
            "real_time_factor: 0.4909\n",
            "cpu_percent: 100.00\n",
            "mem_rss_mb: 1668.89\n"
          ]
        }
      ]
    },
    {
      "cell_type": "code",
      "source": [
        "import torch\n",
        "from transformers import Speech2TextProcessor, Speech2TextForConditionalGeneration, pipeline\n",
        "\n",
        "AUDIO_PATH = \"/content/ref.wav\"\n",
        "MODEL_ID   = \"facebook/s2t-small-librispeech-asr\"\n",
        "\n",
        "processor = Speech2TextProcessor.from_pretrained(MODEL_ID)\n",
        "model = Speech2TextForConditionalGeneration.from_pretrained(MODEL_ID)\n",
        "asr_s2t = pipeline(\n",
        "    \"automatic-speech-recognition\",\n",
        "    model=model,\n",
        "    tokenizer=processor.tokenizer,\n",
        "    feature_extractor=processor.feature_extractor,\n",
        "    device=0 if torch.cuda.is_available() else -1,\n",
        ")\n",
        "\n",
        "s2t_out = asr_s2t(\n",
        "    AUDIO_PATH,\n",
        "    chunk_length_s=15, stride_length_s=(2,2),\n",
        "    generate_kwargs=dict(\n",
        "        num_beams=3,\n",
        "        no_repeat_ngram_size=3,\n",
        "        repetition_penalty=1.2,\n",
        "        length_penalty=1.0,\n",
        "        max_new_tokens=200,\n",
        "        early_stopping=True,\n",
        "    ),\n",
        ")\n",
        "s2t_transcript = s2t_out[\"text\"]\n",
        "print(\"S2T:\", s2t_transcript[:200], \"…\")\n"
      ],
      "metadata": {
        "colab": {
          "base_uri": "https://localhost:8080/"
        },
        "id": "y0-zDTVEKdBr",
        "outputId": "fdb4e8ba-189c-47f2-d323-aa36e28018ea"
      },
      "execution_count": 6,
      "outputs": [
        {
          "output_type": "stream",
          "name": "stderr",
          "text": [
            "Device set to use cpu\n",
            "Using `chunk_length_s` is very experimental with seq2seq models. The results will not necessarily be entirely accurate and will have caveats. More information: https://github.com/huggingface/transformers/pull/20104. Ignore this warning with pipeline(..., ignore_warning=True).\n"
          ]
        },
        {
          "output_type": "stream",
          "name": "stdout",
          "text": [
            "S2T: let your defending tyranny to make sure you are climbing not the hunting of the gunwales to teach you to say altitude but but without agrivot continued aglow a particular climb immediately climb the a …\n"
          ]
        }
      ]
    },
    {
      "cell_type": "markdown",
      "source": [
        "## Vosk"
      ],
      "metadata": {
        "id": "JIUvj7ovx3Z7"
      }
    },
    {
      "cell_type": "markdown",
      "source": [
        "### Model Setup"
      ],
      "metadata": {
        "id": "mLT6dVWb2GZP"
      }
    },
    {
      "cell_type": "code",
      "source": [
        "import os, zipfile, urllib.request\n",
        "\n",
        "model_url = \"https://alphacephei.com/vosk/models/vosk-model-small-en-us-0.15.zip\"\n",
        "zip_path  = \"/content/vosk-model-small-en-us-0.15.zip\"\n",
        "model_dir = \"/content/vosk-model-small-en-us-0.15\"\n",
        "\n",
        "if not os.path.exists(model_dir):\n",
        "    print(\"Downloading Vosk small EN model...\")\n",
        "    urllib.request.urlretrieve(model_url, zip_path)\n",
        "    print(\"Unzipping...\")\n",
        "    with zipfile.ZipFile(zip_path, 'r') as zf:\n",
        "        zf.extractall(\"/content\")\n",
        "    os.remove(zip_path)\n",
        "else:\n",
        "    print(\"Model already present\")\n",
        "\n",
        "print(\"Model ready:\", model_dir, \"| Exists:\", os.path.isdir(model_dir))\n"
      ],
      "metadata": {
        "colab": {
          "base_uri": "https://localhost:8080/"
        },
        "id": "bvLtd4NAx5_C",
        "outputId": "bff2ccc6-51a9-46d0-ae22-878b07c0e6a6"
      },
      "execution_count": 7,
      "outputs": [
        {
          "output_type": "stream",
          "name": "stdout",
          "text": [
            "Model already present\n",
            "Model ready: /content/vosk-model-small-en-us-0.15 | Exists: True\n"
          ]
        }
      ]
    },
    {
      "cell_type": "markdown",
      "source": [
        "### Computer Model"
      ],
      "metadata": {
        "id": "FvdiD7RR2Ubk"
      }
    },
    {
      "cell_type": "code",
      "source": [
        "import json, time, subprocess, tempfile, psutil\n",
        "from pathlib import Path\n",
        "from pydub import AudioSegment\n",
        "from vosk import Model, KaldiRecognizer\n",
        "\n",
        "AUDIO_PATH = Path(\"/content/ref.wav\")\n",
        "MODEL_DIR  = Path(\"/content/vosk-model-small-en-us-0.15\")\n",
        "\n",
        "def ensure_pcm16_mono_16k(in_path: Path) -> Path:\n",
        "    out_wav = Path(tempfile.gettempdir()) / f\"conv_{in_path.stem}_16k_mono.wav\"\n",
        "    cmd = [\n",
        "        \"ffmpeg\",\"-y\",\n",
        "        \"-i\", str(in_path),\n",
        "        \"-ac\",\"1\",\"-ar\",\"16000\",\"-f\",\"wav\",\"-acodec\",\"pcm_s16le\",\n",
        "        str(out_wav)\n",
        "    ]\n",
        "    # Colab has ffmpeg preinstalled\n",
        "    subprocess.run(cmd, stdout=subprocess.DEVNULL, stderr=subprocess.DEVNULL, check=True)\n",
        "    return out_wav\n",
        "\n",
        "def transcribe_file_vosk(model_dir: Path, audio_path: Path):\n",
        "    t0 = time.time()\n",
        "    model = Model(str(model_dir))\n",
        "    rec = KaldiRecognizer(model, 16000)\n",
        "    rec.SetWords(True)\n",
        "\n",
        "    wav_path = ensure_pcm16_mono_16k(audio_path)\n",
        "    pcm = AudioSegment.from_wav(wav_path)\n",
        "    raw = pcm.raw_data\n",
        "\n",
        "    # ~30 ms chunking\n",
        "    chunk_ms = 30\n",
        "    step = int(16000 * 2 * chunk_ms / 1000)  # bytes per 30 ms (16k * 2 bytes)\n",
        "    for i in range(0, len(raw), step):\n",
        "        rec.AcceptWaveform(raw[i:i+step])\n",
        "\n",
        "    final_json = json.loads(rec.FinalResult())\n",
        "    text = final_json.get(\"text\", \"\")\n",
        "\n",
        "    wall = time.time() - t0\n",
        "    dur  = len(pcm) / 1000.0\n",
        "    rtf  = wall / max(dur, 1e-6)\n",
        "\n",
        "    proc = psutil.Process()\n",
        "    mem_mb = proc.memory_info().rss / (1024**2)\n",
        "    cpu_pct = psutil.cpu_percent(interval=0.2)\n",
        "\n",
        "    stats = dict(duration_sec=dur, wall_time_sec=wall, real_time_factor=rtf,\n",
        "                 cpu_percent=cpu_pct, mem_rss_mb=mem_mb)\n",
        "    return text, stats\n",
        "\n",
        "vosk_text, stats = transcribe_file_vosk(MODEL_DIR, AUDIO_PATH)\n",
        "\n",
        "print(\"— TRANSCRIPT —\")\n",
        "print(vosk_text if vosk_text else \"(empty)\")\n",
        "print(\"\\n— STATS —\")\n",
        "for k, v in stats.items():\n",
        "    print(f\"{k}: {v:.4f}\" if isinstance(v, float) else f\"{k}: {v}\")\n"
      ],
      "metadata": {
        "colab": {
          "base_uri": "https://localhost:8080/"
        },
        "id": "quHUZPGJ2UCr",
        "outputId": "75accca8-aac4-416a-d665-64f6d95662c6"
      },
      "execution_count": 8,
      "outputs": [
        {
          "output_type": "stream",
          "name": "stdout",
          "text": [
            "— TRANSCRIPT —\n",
            "they would like you're defending their any to make sure you are climbing not been able to to roughly altitude a quarter of a critical to go blow up a similar crime immediately climb the airplane maintained by about and cry me a point where you level up a plane and climb the airplane up to five thousand when you cancer and you appear to be defended against the call you out the gate area for about a half hour by hour\n",
            "\n",
            "— STATS —\n",
            "duration_sec: 26.5020\n",
            "wall_time_sec: 22.7523\n",
            "real_time_factor: 0.8585\n",
            "cpu_percent: 67.5000\n",
            "mem_rss_mb: 1902.2891\n"
          ]
        }
      ]
    },
    {
      "cell_type": "markdown",
      "source": [
        "## Facebook - Wav2Vec2-Base-960h"
      ],
      "metadata": {
        "id": "-awhImc-vvZ3"
      }
    },
    {
      "cell_type": "markdown",
      "source": [
        "### Model Setup"
      ],
      "metadata": {
        "id": "Uffzb7Yq7SnQ"
      }
    },
    {
      "cell_type": "code",
      "source": [
        "import torch, psutil\n",
        "from transformers import Wav2Vec2Processor, Wav2Vec2ForCTC, pipeline\n",
        "\n",
        "MODEL_ID = \"facebook/wav2vec2-base-960h\"\n",
        "AUDIO_PATH = \"/content/ref.wav\"\n",
        "\n",
        "device = \"cuda\" if torch.cuda.is_available() else \"cpu\"\n",
        "device_index = 0 if device == \"cuda\" else -1\n",
        "\n",
        "# Load processor + model\n",
        "processor = Wav2Vec2Processor.from_pretrained(MODEL_ID)\n",
        "model = Wav2Vec2ForCTC.from_pretrained(MODEL_ID)\n",
        "\n",
        "# Optional: dynamic quantization on CPU to reduce RAM (safe to skip on GPU)\n",
        "if device == \"cpu\":\n",
        "    model = torch.quantization.quantize_dynamic(\n",
        "        model, {torch.nn.Linear}, dtype=torch.qint8\n",
        "    )\n",
        "\n",
        "model.to(device).eval()\n",
        "\n",
        "# Build a pipeline so we get robust long-audio chunking\n",
        "asr = pipeline(\n",
        "    \"automatic-speech-recognition\",\n",
        "    model=model,\n",
        "    tokenizer=processor.tokenizer,\n",
        "    feature_extractor=processor.feature_extractor,\n",
        "    device=device_index,\n",
        ")\n",
        "print(f\"Ready on {device} (quantized={device=='cpu'})\")\n"
      ],
      "metadata": {
        "colab": {
          "base_uri": "https://localhost:8080/"
        },
        "id": "reYsGO72v3Wk",
        "outputId": "d6a93aee-0e49-4368-c2d3-cb3f3bb2fca3"
      },
      "execution_count": 9,
      "outputs": [
        {
          "output_type": "stream",
          "name": "stderr",
          "text": [
            "Some weights of Wav2Vec2ForCTC were not initialized from the model checkpoint at facebook/wav2vec2-base-960h and are newly initialized: ['wav2vec2.masked_spec_embed']\n",
            "You should probably TRAIN this model on a down-stream task to be able to use it for predictions and inference.\n",
            "/tmp/ipython-input-3987570563.py:16: DeprecationWarning: torch.ao.quantization is deprecated and will be removed in 2.10. \n",
            "For migrations of users: \n",
            "1. Eager mode quantization (torch.ao.quantization.quantize, torch.ao.quantization.quantize_dynamic), please migrate to use torchao eager mode quantize_ API instead \n",
            "2. FX graph mode quantization (torch.ao.quantization.quantize_fx.prepare_fx,torch.ao.quantization.quantize_fx.convert_fx, please migrate to use torchao pt2e quantization API instead (prepare_pt2e, convert_pt2e) \n",
            "3. pt2e quantization has been migrated to torchao (https://github.com/pytorch/ao/tree/main/torchao/quantization/pt2e) \n",
            "see https://github.com/pytorch/ao/issues/2259 for more details\n",
            "  model = torch.quantization.quantize_dynamic(\n",
            "Device set to use cpu\n"
          ]
        },
        {
          "output_type": "stream",
          "name": "stdout",
          "text": [
            "Ready on cpu (quantized=True)\n"
          ]
        }
      ]
    },
    {
      "cell_type": "markdown",
      "source": [
        "### Model Compute"
      ],
      "metadata": {
        "id": "WqJNyglt_9Ct"
      }
    },
    {
      "cell_type": "code",
      "source": [
        "import time, soundfile as sf, psutil\n",
        "\n",
        "# Audio duration for RTF\n",
        "info = sf.info(AUDIO_PATH)\n",
        "audio_dur_sec = info.frames / max(info.samplerate, 1)\n",
        "\n",
        "t0 = time.time()\n",
        "out = asr(\n",
        "    AUDIO_PATH,\n",
        "    chunk_length_s=20,        # chunking keeps RAM flat\n",
        "    stride_length_s=(2, 2),   # small overlap\n",
        "    return_timestamps=\"word\", # <-- FIX for CTC pipelines\n",
        "    # ignore_warning=True,    # optional\n",
        ")\n",
        "wall = time.time() - t0\n",
        "rtf = wall / max(audio_dur_sec, 1e-6)\n",
        "\n",
        "proc = psutil.Process()\n",
        "mem_mb = proc.memory_info().rss / (1024**2)\n",
        "cpu_pct = psutil.cpu_percent(interval=0.2)\n",
        "\n",
        "wav2vec2_text = out[\"text\"].strip() if isinstance(out, dict) else str(out).strip()\n",
        "\n",
        "print(\"— TRANSCRIPT —\")\n",
        "print(wav2vec2_text if wav2vec2_text else \"(empty)\")\n",
        "\n",
        "print(\"\\n— STATS —\")\n",
        "print(f\"duration_sec: {audio_dur_sec:.4f}\")\n",
        "print(f\"wall_time_sec: {wall:.4f}\")\n",
        "print(f\"real_time_factor: {rtf:.4f}\")\n",
        "print(f\"cpu_percent: {cpu_pct:.2f}\")\n",
        "print(f\"mem_rss_mb: {mem_mb:.2f}\")\n"
      ],
      "metadata": {
        "colab": {
          "base_uri": "https://localhost:8080/"
        },
        "id": "fNiRMt9O__ta",
        "outputId": "3096095c-3230-42fb-bbbb-09d7a5728fb8"
      },
      "execution_count": 10,
      "outputs": [
        {
          "output_type": "stream",
          "name": "stdout",
          "text": [
            "— TRANSCRIPT —\n",
            "IT WOS LIKE YOUR DEFENDING SERANY TO MAKE SURE YOU ARE CLIMBING NOT DEFFENDING OTE PILOT ERTUCHUGOV THE ALPITUDE A CE FOO IT TO THE GTEIRTUCHYUGOV LOW OUP TATULAR CLIME IMMEDIATELY CLIMB THE ARPLANE MAINTAIN FIVE THOUSAND CLIMBTHE AIRPLAME WIT JUST LEVER OU THE PLANE AND CLIMB THE AIR PLING UP THE FIVE THOUSAND WHENE HY CANCER AN YOU APPEAR TO BE THE SENDING AGAINST SIR CARU WHO SO OFPITUDE I TARA E CAKACASTA ABOUT A HALF HILE A FARLER HENTED OUT\n",
            "\n",
            "— STATS —\n",
            "duration_sec: 26.5018\n",
            "wall_time_sec: 18.7231\n",
            "real_time_factor: 0.7065\n",
            "cpu_percent: 67.50\n",
            "mem_rss_mb: 2730.44\n"
          ]
        }
      ]
    },
    {
      "cell_type": "markdown",
      "source": [
        "## OpenAI - Whisper"
      ],
      "metadata": {
        "id": "MfNVQ3PMx9la"
      }
    },
    {
      "cell_type": "markdown",
      "source": [
        "### Model Setup"
      ],
      "metadata": {
        "id": "NIqZotRA3_t4"
      }
    },
    {
      "cell_type": "code",
      "source": [
        "import torch, psutil, time, soundfile as sf\n",
        "from faster_whisper import WhisperModel\n",
        "\n",
        "AUDIO_PATH = \"/content/ref.wav\"\n",
        "\n",
        "# Choose size: \"tiny\", \"base\", (\"small\", \"medium\" also exist but heavier)\n",
        "MODEL_SIZE = \"base\"\n",
        "\n",
        "# Auto-select device/precision\n",
        "if torch.cuda.is_available():\n",
        "    DEVICE = \"cuda\"\n",
        "    COMPUTE_TYPE = \"float16\"   # good default for GPU\n",
        "else:\n",
        "    DEVICE = \"cpu\"\n",
        "    COMPUTE_TYPE = \"int8\"      # efficient on CPU\n",
        "\n",
        "print(f\"Using model={MODEL_SIZE}, device={DEVICE}, compute_type={COMPUTE_TYPE}\")\n",
        "model = WhisperModel(MODEL_SIZE, device=DEVICE, compute_type=COMPUTE_TYPE)\n"
      ],
      "metadata": {
        "colab": {
          "base_uri": "https://localhost:8080/"
        },
        "id": "lqAVAjfk4Bsg",
        "outputId": "bf91b4a3-4f28-43dc-8f24-94893841940f"
      },
      "execution_count": 11,
      "outputs": [
        {
          "output_type": "stream",
          "name": "stdout",
          "text": [
            "Using model=base, device=cpu, compute_type=int8\n"
          ]
        }
      ]
    },
    {
      "cell_type": "markdown",
      "source": [
        "### Compute Model"
      ],
      "metadata": {
        "id": "xYGbu4eD4BQa"
      }
    },
    {
      "cell_type": "code",
      "source": [
        "import itertools\n",
        "\n",
        "# Load once to get duration for RTF\n",
        "info = sf.info(AUDIO_PATH)\n",
        "audio_dur_sec = info.frames / max(info.samplerate, 1)\n",
        "\n",
        "t0 = time.time()\n",
        "segments, info_rt = model.transcribe(\n",
        "    AUDIO_PATH,\n",
        "    language=\"en\",           # English only (skips auto-detect)\n",
        "    task=\"transcribe\",       # not \"translate\"\n",
        "    beam_size=1,             # greedy for speed; set >1 for accuracy\n",
        "    vad_filter=True,         # basic VAD can help on noisy files\n",
        ")\n",
        "# Collect text (order preserved)\n",
        "whisper_text = \" \".join(s.text.strip() for s in segments)\n",
        "\n",
        "wall = time.time() - t0\n",
        "rtf = wall / max(audio_dur_sec, 1e-6)\n",
        "\n",
        "proc = psutil.Process()\n",
        "mem_mb = proc.memory_info().rss / (1024**2)\n",
        "cpu_pct = psutil.cpu_percent(interval=0.2)\n",
        "\n",
        "print(\"— TRANSCRIPT —\")\n",
        "print(whisper_text if whisper_text else \"(empty)\")\n",
        "print(\"\\n— STATS —\")\n",
        "print(f\"duration_sec: {audio_dur_sec:.4f}\")\n",
        "print(f\"wall_time_sec: {wall:.4f}\")\n",
        "print(f\"real_time_factor: {rtf:.4f}\")\n",
        "print(f\"cpu_percent: {cpu_pct:.2f}\")\n",
        "print(f\"mem_rss_mb: {mem_mb:.2f}\")\n",
        "\n",
        "# Extra info from faster-whisper (when available)\n",
        "if info_rt is not None:\n",
        "    # info_rt might have attributes like duration, transcription options, etc.\n",
        "    try:\n",
        "        print(\"\\n— RUNTIME INFO —\")\n",
        "        print(f\"language: {info_rt.language}\")\n",
        "        print(f\"language_probability: {info_rt.language_probability:.4f}\")\n",
        "        print(f\"duration (reported): {info_rt.duration:.4f}\")\n",
        "    except Exception:\n",
        "        pass\n"
      ],
      "metadata": {
        "colab": {
          "base_uri": "https://localhost:8080/"
        },
        "id": "PJvC57qv4H2T",
        "outputId": "1fac5f73-0904-427a-8b61-3ab9259b730c"
      },
      "execution_count": 12,
      "outputs": [
        {
          "output_type": "stream",
          "name": "stdout",
          "text": [
            "— TRANSCRIPT —\n",
            "It looks like you're descending, sir. I need to make sure you are climbing not descending. Go to the pilot. There are two two golf say altitude. Go to the pilot. Go to the golf. There are two two golf low altitude alert. Climb immediately. Climb the airplane. Maintain 5,000. Climb the airplane, please. Just level up the plane and climb the airplane up to 5,000 when you can, sir. You appear to be descending again, sir. Are you, sir, altitude? I tell you, I have to discuss about a half mile of further into the helicopter.\n",
            "\n",
            "— STATS —\n",
            "duration_sec: 26.5018\n",
            "wall_time_sec: 12.1745\n",
            "real_time_factor: 0.4594\n",
            "cpu_percent: 7.50\n",
            "mem_rss_mb: 2986.26\n",
            "\n",
            "— RUNTIME INFO —\n",
            "language: en\n",
            "language_probability: 1.0000\n",
            "duration (reported): 26.5018\n"
          ]
        }
      ]
    },
    {
      "cell_type": "markdown",
      "source": [
        "## Model Comparison"
      ],
      "metadata": {
        "id": "K0aq5ZovIjiQ"
      }
    },
    {
      "cell_type": "code",
      "source": [
        "ref_str = \"It looks like your descending, sir I need to make sure you are climbing not descending, Gold is climbing 22G, say altitude 2500, 22G, 22G low altitude alert, climb the airplane maintain 5000, climb the airplane please, just level off the plane and climb the airplane up to 5000, when you can, sir, you appear to be descending again sir, Are you... say altitude. Tower the aircraft has crashed uhh... about half a mile in front of us into the houses\""
      ],
      "metadata": {
        "id": "fYuNJgdtI3fz"
      },
      "execution_count": 13,
      "outputs": []
    },
    {
      "cell_type": "code",
      "source": [
        "# %% ASR 4-way comparison with Accuracy + Correctness/Precision/F1\n",
        "# Expects these variables to be defined earlier:\n",
        "#   ref_str, vosk_text, whisper_text, wav2vec2_text, s2t_transcript\n",
        "# Optional installs (uncomment if needed):\n",
        "# !pip -q install pandas matplotlib\n",
        "\n",
        "import re, os, csv\n",
        "import pandas as pd\n",
        "import matplotlib.pyplot as plt\n",
        "\n",
        "# ---------- Normalization tuned for ATC-ish speech ----------\n",
        "def normalize_atc(s: str) -> str:\n",
        "    if s is None:\n",
        "        return \"\"\n",
        "    s = s.lower()\n",
        "    # map common domain tokens\n",
        "    s = s.replace(\"22g\", \"two two golf\")\n",
        "    s = s.replace(\"5,000\", \"five thousand\").replace(\"5000\", \"five thousand\")\n",
        "    s = s.replace(\"2500\", \"two thousand five hundred\")\n",
        "    s = s.replace(\"gold\", \"golf\")\n",
        "    # drop fillers, punctuation, collapse spaces\n",
        "    s = re.sub(r\"\\b(uh+|um+)\\b\", \" \", s)\n",
        "    s = re.sub(r\"[‐–—…]\", \" \", s)          # normalize dashes/ellipses\n",
        "    s = re.sub(r\"[^\\w\\s]\", \" \", s)         # strip punctuation\n",
        "    s = re.sub(r\"\\s+\", \" \", s).strip()\n",
        "    return s\n",
        "\n",
        "def normalize_raw(s: str) -> str:\n",
        "    if s is None:\n",
        "        return \"\"\n",
        "    s = s.lower()\n",
        "    s = re.sub(r\"[^\\w\\s]\", \" \", s)\n",
        "    s = re.sub(r\"\\s+\", \" \", s).strip()\n",
        "    return s\n",
        "\n",
        "# ---------- Levenshtein alignment to get S/D/I + matches ----------\n",
        "def align_counts(ref_tokens, hyp_tokens):\n",
        "    R, H = ref_tokens, hyp_tokens\n",
        "    n, m = len(R), len(H)\n",
        "    dp = [[0]*(m+1) for _ in range(n+1)]\n",
        "    for i in range(1, n+1): dp[i][0] = i\n",
        "    for j in range(1, m+1): dp[0][j] = j\n",
        "    for i in range(1, n+1):\n",
        "        for j in range(1, m+1):\n",
        "            if R[i-1] == H[j-1]:\n",
        "                dp[i][j] = dp[i-1][j-1]\n",
        "            else:\n",
        "                dp[i][j] = min(dp[i-1][j] + 1,    # deletion\n",
        "                               dp[i][j-1] + 1,    # insertion\n",
        "                               dp[i-1][j-1] + 1)  # substitution\n",
        "    # backtrack to count\n",
        "    i, j = n, m\n",
        "    S = D = I = C = 0\n",
        "    while i > 0 or j > 0:\n",
        "        if i>0 and j>0 and R[i-1] == H[j-1] and dp[i][j] == dp[i-1][j-1]:\n",
        "            C += 1; i -= 1; j -= 1\n",
        "        elif i>0 and j>0 and dp[i][j] == dp[i-1][j-1] + 1:\n",
        "            S += 1; i -= 1; j -= 1\n",
        "        elif i>0 and dp[i][j] == dp[i-1][j] + 1:\n",
        "            D += 1; i -= 1\n",
        "        else:\n",
        "            I += 1; j -= 1\n",
        "    return {\"S\": S, \"D\": D, \"I\": I, \"C\": C, \"N\": n, \"M\": m}\n",
        "\n",
        "def metrics_from_tokens(ref_toks, hyp_toks):\n",
        "    c = align_counts(ref_toks, hyp_toks)\n",
        "    N, M = max(1, c[\"N\"]), max(1, c[\"M\"])\n",
        "    S, D, I, C = c[\"S\"], c[\"D\"], c[\"I\"], c[\"C\"]\n",
        "    wer = (S + D + I) / N\n",
        "    acc = max(0.0, 1.0 - wer)\n",
        "    # correctness = recall of reference words; precision = cleanliness of hypothesis\n",
        "    correctness = C / N\n",
        "    precision   = C / M\n",
        "    f1 = 0.0 if (correctness + precision) == 0 else 2 * correctness * precision / (correctness + precision)\n",
        "    return {\n",
        "        \"wer\": wer, \"acc\": acc,\n",
        "        \"correctness\": correctness,\n",
        "        \"precision\": precision,\n",
        "        \"f1\": f1,\n",
        "        \"ref_words\": c[\"N\"], \"hyp_words\": c[\"M\"],\n",
        "        \"S\": S, \"D\": D, \"I\": I, \"C\": C\n",
        "    }\n",
        "\n",
        "def score_pair(name, hyp_raw, ref_raw):\n",
        "    # RAW tokens\n",
        "    ref_r = normalize_raw(ref_raw).split()\n",
        "    hyp_r = normalize_raw(hyp_raw).split()\n",
        "    raw = metrics_from_tokens(ref_r, hyp_r)\n",
        "    # DOMAIN-NORMALIZED tokens\n",
        "    ref_n = normalize_atc(ref_raw).split()\n",
        "    hyp_n = normalize_atc(hyp_raw).split()\n",
        "    norm = metrics_from_tokens(ref_n, hyp_n)\n",
        "\n",
        "    return {\n",
        "        \"backend\": name,\n",
        "        \"wer_raw\": round(raw[\"wer\"], 4),\n",
        "        \"acc_raw\": round(raw[\"acc\"], 4),\n",
        "        \"wer_norm\": round(norm[\"wer\"], 4),\n",
        "        \"acc_norm\": round(norm[\"acc\"], 4),\n",
        "        \"correctness\": round(norm[\"correctness\"], 4),\n",
        "        \"precision\": round(norm[\"precision\"], 4),\n",
        "        \"f1\": round(norm[\"f1\"], 4),\n",
        "        \"ref_words\": norm[\"ref_words\"],\n",
        "        \"hyp_words\": norm[\"hyp_words\"],\n",
        "        \"S\": norm[\"S\"], \"D\": norm[\"D\"], \"I\": norm[\"I\"], \"C\": norm[\"C\"],\n",
        "        \"hyp_preview\": (str(hyp_raw)[:120] + \"…\") if hyp_raw and len(str(hyp_raw)) > 120 else str(hyp_raw or \"\")\n",
        "    }\n",
        "\n",
        "# Collect available hypotheses\n",
        "def _get(name):\n",
        "    return globals()[name] if name in globals() else None\n",
        "\n",
        "if \"ref_str\" not in globals():\n",
        "    raise RuntimeError(\"Please define `ref_str` (ground-truth transcript) first.\")\n",
        "\n",
        "pairs = [\n",
        "    (\"whisper\",   _get(\"whisper_text\")),\n",
        "    (\"wav2vec2\",  _get(\"wav2vec2_text\")),\n",
        "    (\"vosk\",      _get(\"vosk_text\")),\n",
        "    (\"s2t-small\", _get(\"s2t_transcript\")),\n",
        "]\n",
        "\n",
        "rows = [score_pair(name, hyp, ref_str) for name, hyp in pairs if hyp is not None]\n",
        "df = pd.DataFrame(rows).sort_values([\"wer_norm\", \"backend\"]).reset_index(drop=True)\n",
        "display(df)\n",
        "\n",
        "# Save CSV (same path as before to keep your workflow)\n",
        "csv_path = \"/content/asr_eval_summary.csv\"\n",
        "df.to_csv(csv_path, index=False)\n",
        "print(f\"Saved → {csv_path}\")\n",
        "\n",
        "# Charts: WER and Accuracy (normalized)\n",
        "plt.figure(figsize=(6,4))\n",
        "plt.bar(df[\"backend\"], df[\"wer_norm\"])\n",
        "plt.title(\"ASR Comparison — Normalized WER (lower is better)\")\n",
        "plt.xlabel(\"backend\"); plt.ylabel(\"WER (normalized)\")\n",
        "plt.ylim(0, max(0.05, df[\"wer_norm\"].max()*1.15))\n",
        "plt.tight_layout(); plt.show()\n",
        "\n",
        "plt.figure(figsize=(6,4))\n",
        "plt.bar(df[\"backend\"], df[\"acc_norm\"])\n",
        "plt.title(\"ASR Comparison — Normalized Accuracy (higher is better)\")\n",
        "plt.xlabel(\"backend\"); plt.ylabel(\"Accuracy (normalized)\")\n",
        "plt.ylim(0, 1.0)\n",
        "plt.tight_layout(); plt.show()\n",
        "\n",
        "# Optional: print best by acc_norm\n",
        "if not df.empty:\n",
        "    best = df.sort_values(\"acc_norm\", ascending=False).iloc[0]\n",
        "    print(f\"Best by acc_norm: {best['backend']} ({best['acc_norm']*100:.2f}%)\")\n"
      ],
      "metadata": {
        "colab": {
          "base_uri": "https://localhost:8080/",
          "height": 990
        },
        "id": "WbHIWD9aJnxF",
        "outputId": "14c98ecc-460c-4863-e2c9-b52cfeb5d336"
      },
      "execution_count": 16,
      "outputs": [
        {
          "output_type": "display_data",
          "data": {
            "text/plain": [
              "     backend  wer_raw  acc_raw  wer_norm  acc_norm  correctness  precision  \\\n",
              "0    whisper   0.5556   0.4444    0.3736    0.6264       0.7253     0.6600   \n",
              "1       vosk   0.7654   0.2346    0.6703    0.3297       0.3516     0.3855   \n",
              "2   wav2vec2   0.7531   0.2469    0.6813    0.3187       0.3297     0.3659   \n",
              "3  s2t-small   0.9753   0.0247    0.8571    0.1429       0.4286     0.3545   \n",
              "\n",
              "       f1  ref_words  hyp_words   S   D   I   C  \\\n",
              "0  0.6911         91        100  25   0   9  66   \n",
              "1  0.3678         91         83  49  10   2  32   \n",
              "2  0.3468         91         82  51  10   1  30   \n",
              "3  0.3881         91        110  45   7  26  39   \n",
              "\n",
              "                                         hyp_preview  \n",
              "0  It looks like you're descending, sir. I need t...  \n",
              "1  they would like you're defending their any to ...  \n",
              "2  IT WOS LIKE YOUR DEFENDING SERANY TO MAKE SURE...  \n",
              "3  let your defending tyranny to make sure you ar...  "
            ],
            "text/html": [
              "\n",
              "  <div id=\"df-daa50346-e9d6-4eec-af5b-9fb614c8d2a0\" class=\"colab-df-container\">\n",
              "    <div>\n",
              "<style scoped>\n",
              "    .dataframe tbody tr th:only-of-type {\n",
              "        vertical-align: middle;\n",
              "    }\n",
              "\n",
              "    .dataframe tbody tr th {\n",
              "        vertical-align: top;\n",
              "    }\n",
              "\n",
              "    .dataframe thead th {\n",
              "        text-align: right;\n",
              "    }\n",
              "</style>\n",
              "<table border=\"1\" class=\"dataframe\">\n",
              "  <thead>\n",
              "    <tr style=\"text-align: right;\">\n",
              "      <th></th>\n",
              "      <th>backend</th>\n",
              "      <th>wer_raw</th>\n",
              "      <th>acc_raw</th>\n",
              "      <th>wer_norm</th>\n",
              "      <th>acc_norm</th>\n",
              "      <th>correctness</th>\n",
              "      <th>precision</th>\n",
              "      <th>f1</th>\n",
              "      <th>ref_words</th>\n",
              "      <th>hyp_words</th>\n",
              "      <th>S</th>\n",
              "      <th>D</th>\n",
              "      <th>I</th>\n",
              "      <th>C</th>\n",
              "      <th>hyp_preview</th>\n",
              "    </tr>\n",
              "  </thead>\n",
              "  <tbody>\n",
              "    <tr>\n",
              "      <th>0</th>\n",
              "      <td>whisper</td>\n",
              "      <td>0.5556</td>\n",
              "      <td>0.4444</td>\n",
              "      <td>0.3736</td>\n",
              "      <td>0.6264</td>\n",
              "      <td>0.7253</td>\n",
              "      <td>0.6600</td>\n",
              "      <td>0.6911</td>\n",
              "      <td>91</td>\n",
              "      <td>100</td>\n",
              "      <td>25</td>\n",
              "      <td>0</td>\n",
              "      <td>9</td>\n",
              "      <td>66</td>\n",
              "      <td>It looks like you're descending, sir. I need t...</td>\n",
              "    </tr>\n",
              "    <tr>\n",
              "      <th>1</th>\n",
              "      <td>vosk</td>\n",
              "      <td>0.7654</td>\n",
              "      <td>0.2346</td>\n",
              "      <td>0.6703</td>\n",
              "      <td>0.3297</td>\n",
              "      <td>0.3516</td>\n",
              "      <td>0.3855</td>\n",
              "      <td>0.3678</td>\n",
              "      <td>91</td>\n",
              "      <td>83</td>\n",
              "      <td>49</td>\n",
              "      <td>10</td>\n",
              "      <td>2</td>\n",
              "      <td>32</td>\n",
              "      <td>they would like you're defending their any to ...</td>\n",
              "    </tr>\n",
              "    <tr>\n",
              "      <th>2</th>\n",
              "      <td>wav2vec2</td>\n",
              "      <td>0.7531</td>\n",
              "      <td>0.2469</td>\n",
              "      <td>0.6813</td>\n",
              "      <td>0.3187</td>\n",
              "      <td>0.3297</td>\n",
              "      <td>0.3659</td>\n",
              "      <td>0.3468</td>\n",
              "      <td>91</td>\n",
              "      <td>82</td>\n",
              "      <td>51</td>\n",
              "      <td>10</td>\n",
              "      <td>1</td>\n",
              "      <td>30</td>\n",
              "      <td>IT WOS LIKE YOUR DEFENDING SERANY TO MAKE SURE...</td>\n",
              "    </tr>\n",
              "    <tr>\n",
              "      <th>3</th>\n",
              "      <td>s2t-small</td>\n",
              "      <td>0.9753</td>\n",
              "      <td>0.0247</td>\n",
              "      <td>0.8571</td>\n",
              "      <td>0.1429</td>\n",
              "      <td>0.4286</td>\n",
              "      <td>0.3545</td>\n",
              "      <td>0.3881</td>\n",
              "      <td>91</td>\n",
              "      <td>110</td>\n",
              "      <td>45</td>\n",
              "      <td>7</td>\n",
              "      <td>26</td>\n",
              "      <td>39</td>\n",
              "      <td>let your defending tyranny to make sure you ar...</td>\n",
              "    </tr>\n",
              "  </tbody>\n",
              "</table>\n",
              "</div>\n",
              "    <div class=\"colab-df-buttons\">\n",
              "\n",
              "  <div class=\"colab-df-container\">\n",
              "    <button class=\"colab-df-convert\" onclick=\"convertToInteractive('df-daa50346-e9d6-4eec-af5b-9fb614c8d2a0')\"\n",
              "            title=\"Convert this dataframe to an interactive table.\"\n",
              "            style=\"display:none;\">\n",
              "\n",
              "  <svg xmlns=\"http://www.w3.org/2000/svg\" height=\"24px\" viewBox=\"0 -960 960 960\">\n",
              "    <path d=\"M120-120v-720h720v720H120Zm60-500h600v-160H180v160Zm220 220h160v-160H400v160Zm0 220h160v-160H400v160ZM180-400h160v-160H180v160Zm440 0h160v-160H620v160ZM180-180h160v-160H180v160Zm440 0h160v-160H620v160Z\"/>\n",
              "  </svg>\n",
              "    </button>\n",
              "\n",
              "  <style>\n",
              "    .colab-df-container {\n",
              "      display:flex;\n",
              "      gap: 12px;\n",
              "    }\n",
              "\n",
              "    .colab-df-convert {\n",
              "      background-color: #E8F0FE;\n",
              "      border: none;\n",
              "      border-radius: 50%;\n",
              "      cursor: pointer;\n",
              "      display: none;\n",
              "      fill: #1967D2;\n",
              "      height: 32px;\n",
              "      padding: 0 0 0 0;\n",
              "      width: 32px;\n",
              "    }\n",
              "\n",
              "    .colab-df-convert:hover {\n",
              "      background-color: #E2EBFA;\n",
              "      box-shadow: 0px 1px 2px rgba(60, 64, 67, 0.3), 0px 1px 3px 1px rgba(60, 64, 67, 0.15);\n",
              "      fill: #174EA6;\n",
              "    }\n",
              "\n",
              "    .colab-df-buttons div {\n",
              "      margin-bottom: 4px;\n",
              "    }\n",
              "\n",
              "    [theme=dark] .colab-df-convert {\n",
              "      background-color: #3B4455;\n",
              "      fill: #D2E3FC;\n",
              "    }\n",
              "\n",
              "    [theme=dark] .colab-df-convert:hover {\n",
              "      background-color: #434B5C;\n",
              "      box-shadow: 0px 1px 3px 1px rgba(0, 0, 0, 0.15);\n",
              "      filter: drop-shadow(0px 1px 2px rgba(0, 0, 0, 0.3));\n",
              "      fill: #FFFFFF;\n",
              "    }\n",
              "  </style>\n",
              "\n",
              "    <script>\n",
              "      const buttonEl =\n",
              "        document.querySelector('#df-daa50346-e9d6-4eec-af5b-9fb614c8d2a0 button.colab-df-convert');\n",
              "      buttonEl.style.display =\n",
              "        google.colab.kernel.accessAllowed ? 'block' : 'none';\n",
              "\n",
              "      async function convertToInteractive(key) {\n",
              "        const element = document.querySelector('#df-daa50346-e9d6-4eec-af5b-9fb614c8d2a0');\n",
              "        const dataTable =\n",
              "          await google.colab.kernel.invokeFunction('convertToInteractive',\n",
              "                                                    [key], {});\n",
              "        if (!dataTable) return;\n",
              "\n",
              "        const docLinkHtml = 'Like what you see? Visit the ' +\n",
              "          '<a target=\"_blank\" href=https://colab.research.google.com/notebooks/data_table.ipynb>data table notebook</a>'\n",
              "          + ' to learn more about interactive tables.';\n",
              "        element.innerHTML = '';\n",
              "        dataTable['output_type'] = 'display_data';\n",
              "        await google.colab.output.renderOutput(dataTable, element);\n",
              "        const docLink = document.createElement('div');\n",
              "        docLink.innerHTML = docLinkHtml;\n",
              "        element.appendChild(docLink);\n",
              "      }\n",
              "    </script>\n",
              "  </div>\n",
              "\n",
              "\n",
              "    <div id=\"df-d98718bd-e597-4511-a121-962d3247cac7\">\n",
              "      <button class=\"colab-df-quickchart\" onclick=\"quickchart('df-d98718bd-e597-4511-a121-962d3247cac7')\"\n",
              "                title=\"Suggest charts\"\n",
              "                style=\"display:none;\">\n",
              "\n",
              "<svg xmlns=\"http://www.w3.org/2000/svg\" height=\"24px\"viewBox=\"0 0 24 24\"\n",
              "     width=\"24px\">\n",
              "    <g>\n",
              "        <path d=\"M19 3H5c-1.1 0-2 .9-2 2v14c0 1.1.9 2 2 2h14c1.1 0 2-.9 2-2V5c0-1.1-.9-2-2-2zM9 17H7v-7h2v7zm4 0h-2V7h2v10zm4 0h-2v-4h2v4z\"/>\n",
              "    </g>\n",
              "</svg>\n",
              "      </button>\n",
              "\n",
              "<style>\n",
              "  .colab-df-quickchart {\n",
              "      --bg-color: #E8F0FE;\n",
              "      --fill-color: #1967D2;\n",
              "      --hover-bg-color: #E2EBFA;\n",
              "      --hover-fill-color: #174EA6;\n",
              "      --disabled-fill-color: #AAA;\n",
              "      --disabled-bg-color: #DDD;\n",
              "  }\n",
              "\n",
              "  [theme=dark] .colab-df-quickchart {\n",
              "      --bg-color: #3B4455;\n",
              "      --fill-color: #D2E3FC;\n",
              "      --hover-bg-color: #434B5C;\n",
              "      --hover-fill-color: #FFFFFF;\n",
              "      --disabled-bg-color: #3B4455;\n",
              "      --disabled-fill-color: #666;\n",
              "  }\n",
              "\n",
              "  .colab-df-quickchart {\n",
              "    background-color: var(--bg-color);\n",
              "    border: none;\n",
              "    border-radius: 50%;\n",
              "    cursor: pointer;\n",
              "    display: none;\n",
              "    fill: var(--fill-color);\n",
              "    height: 32px;\n",
              "    padding: 0;\n",
              "    width: 32px;\n",
              "  }\n",
              "\n",
              "  .colab-df-quickchart:hover {\n",
              "    background-color: var(--hover-bg-color);\n",
              "    box-shadow: 0 1px 2px rgba(60, 64, 67, 0.3), 0 1px 3px 1px rgba(60, 64, 67, 0.15);\n",
              "    fill: var(--button-hover-fill-color);\n",
              "  }\n",
              "\n",
              "  .colab-df-quickchart-complete:disabled,\n",
              "  .colab-df-quickchart-complete:disabled:hover {\n",
              "    background-color: var(--disabled-bg-color);\n",
              "    fill: var(--disabled-fill-color);\n",
              "    box-shadow: none;\n",
              "  }\n",
              "\n",
              "  .colab-df-spinner {\n",
              "    border: 2px solid var(--fill-color);\n",
              "    border-color: transparent;\n",
              "    border-bottom-color: var(--fill-color);\n",
              "    animation:\n",
              "      spin 1s steps(1) infinite;\n",
              "  }\n",
              "\n",
              "  @keyframes spin {\n",
              "    0% {\n",
              "      border-color: transparent;\n",
              "      border-bottom-color: var(--fill-color);\n",
              "      border-left-color: var(--fill-color);\n",
              "    }\n",
              "    20% {\n",
              "      border-color: transparent;\n",
              "      border-left-color: var(--fill-color);\n",
              "      border-top-color: var(--fill-color);\n",
              "    }\n",
              "    30% {\n",
              "      border-color: transparent;\n",
              "      border-left-color: var(--fill-color);\n",
              "      border-top-color: var(--fill-color);\n",
              "      border-right-color: var(--fill-color);\n",
              "    }\n",
              "    40% {\n",
              "      border-color: transparent;\n",
              "      border-right-color: var(--fill-color);\n",
              "      border-top-color: var(--fill-color);\n",
              "    }\n",
              "    60% {\n",
              "      border-color: transparent;\n",
              "      border-right-color: var(--fill-color);\n",
              "    }\n",
              "    80% {\n",
              "      border-color: transparent;\n",
              "      border-right-color: var(--fill-color);\n",
              "      border-bottom-color: var(--fill-color);\n",
              "    }\n",
              "    90% {\n",
              "      border-color: transparent;\n",
              "      border-bottom-color: var(--fill-color);\n",
              "    }\n",
              "  }\n",
              "</style>\n",
              "\n",
              "      <script>\n",
              "        async function quickchart(key) {\n",
              "          const quickchartButtonEl =\n",
              "            document.querySelector('#' + key + ' button');\n",
              "          quickchartButtonEl.disabled = true;  // To prevent multiple clicks.\n",
              "          quickchartButtonEl.classList.add('colab-df-spinner');\n",
              "          try {\n",
              "            const charts = await google.colab.kernel.invokeFunction(\n",
              "                'suggestCharts', [key], {});\n",
              "          } catch (error) {\n",
              "            console.error('Error during call to suggestCharts:', error);\n",
              "          }\n",
              "          quickchartButtonEl.classList.remove('colab-df-spinner');\n",
              "          quickchartButtonEl.classList.add('colab-df-quickchart-complete');\n",
              "        }\n",
              "        (() => {\n",
              "          let quickchartButtonEl =\n",
              "            document.querySelector('#df-d98718bd-e597-4511-a121-962d3247cac7 button');\n",
              "          quickchartButtonEl.style.display =\n",
              "            google.colab.kernel.accessAllowed ? 'block' : 'none';\n",
              "        })();\n",
              "      </script>\n",
              "    </div>\n",
              "\n",
              "  <div id=\"id_d035c860-e2f1-48e8-a3df-8735d5a39b3a\">\n",
              "    <style>\n",
              "      .colab-df-generate {\n",
              "        background-color: #E8F0FE;\n",
              "        border: none;\n",
              "        border-radius: 50%;\n",
              "        cursor: pointer;\n",
              "        display: none;\n",
              "        fill: #1967D2;\n",
              "        height: 32px;\n",
              "        padding: 0 0 0 0;\n",
              "        width: 32px;\n",
              "      }\n",
              "\n",
              "      .colab-df-generate:hover {\n",
              "        background-color: #E2EBFA;\n",
              "        box-shadow: 0px 1px 2px rgba(60, 64, 67, 0.3), 0px 1px 3px 1px rgba(60, 64, 67, 0.15);\n",
              "        fill: #174EA6;\n",
              "      }\n",
              "\n",
              "      [theme=dark] .colab-df-generate {\n",
              "        background-color: #3B4455;\n",
              "        fill: #D2E3FC;\n",
              "      }\n",
              "\n",
              "      [theme=dark] .colab-df-generate:hover {\n",
              "        background-color: #434B5C;\n",
              "        box-shadow: 0px 1px 3px 1px rgba(0, 0, 0, 0.15);\n",
              "        filter: drop-shadow(0px 1px 2px rgba(0, 0, 0, 0.3));\n",
              "        fill: #FFFFFF;\n",
              "      }\n",
              "    </style>\n",
              "    <button class=\"colab-df-generate\" onclick=\"generateWithVariable('df')\"\n",
              "            title=\"Generate code using this dataframe.\"\n",
              "            style=\"display:none;\">\n",
              "\n",
              "  <svg xmlns=\"http://www.w3.org/2000/svg\" height=\"24px\"viewBox=\"0 0 24 24\"\n",
              "       width=\"24px\">\n",
              "    <path d=\"M7,19H8.4L18.45,9,17,7.55,7,17.6ZM5,21V16.75L18.45,3.32a2,2,0,0,1,2.83,0l1.4,1.43a1.91,1.91,0,0,1,.58,1.4,1.91,1.91,0,0,1-.58,1.4L9.25,21ZM18.45,9,17,7.55Zm-12,3A5.31,5.31,0,0,0,4.9,8.1,5.31,5.31,0,0,0,1,6.5,5.31,5.31,0,0,0,4.9,4.9,5.31,5.31,0,0,0,6.5,1,5.31,5.31,0,0,0,8.1,4.9,5.31,5.31,0,0,0,12,6.5,5.46,5.46,0,0,0,6.5,12Z\"/>\n",
              "  </svg>\n",
              "    </button>\n",
              "    <script>\n",
              "      (() => {\n",
              "      const buttonEl =\n",
              "        document.querySelector('#id_d035c860-e2f1-48e8-a3df-8735d5a39b3a button.colab-df-generate');\n",
              "      buttonEl.style.display =\n",
              "        google.colab.kernel.accessAllowed ? 'block' : 'none';\n",
              "\n",
              "      buttonEl.onclick = () => {\n",
              "        google.colab.notebook.generateWithVariable('df');\n",
              "      }\n",
              "      })();\n",
              "    </script>\n",
              "  </div>\n",
              "\n",
              "    </div>\n",
              "  </div>\n"
            ],
            "application/vnd.google.colaboratory.intrinsic+json": {
              "type": "dataframe",
              "variable_name": "df",
              "summary": "{\n  \"name\": \"df\",\n  \"rows\": 4,\n  \"fields\": [\n    {\n      \"column\": \"backend\",\n      \"properties\": {\n        \"dtype\": \"string\",\n        \"num_unique_values\": 4,\n        \"samples\": [\n          \"vosk\",\n          \"s2t-small\",\n          \"whisper\"\n        ],\n        \"semantic_type\": \"\",\n        \"description\": \"\"\n      }\n    },\n    {\n      \"column\": \"wer_raw\",\n      \"properties\": {\n        \"dtype\": \"number\",\n        \"std\": 0.1714527437322988,\n        \"min\": 0.5556,\n        \"max\": 0.9753,\n        \"num_unique_values\": 4,\n        \"samples\": [\n          0.7654,\n          0.9753,\n          0.5556\n        ],\n        \"semantic_type\": \"\",\n        \"description\": \"\"\n      }\n    },\n    {\n      \"column\": \"acc_raw\",\n      \"properties\": {\n        \"dtype\": \"number\",\n        \"std\": 0.17145274373229882,\n        \"min\": 0.0247,\n        \"max\": 0.4444,\n        \"num_unique_values\": 4,\n        \"samples\": [\n          0.2346,\n          0.0247,\n          0.4444\n        ],\n        \"semantic_type\": \"\",\n        \"description\": \"\"\n      }\n    },\n    {\n      \"column\": \"wer_norm\",\n      \"properties\": {\n        \"dtype\": \"number\",\n        \"std\": 0.20050006442226728,\n        \"min\": 0.3736,\n        \"max\": 0.8571,\n        \"num_unique_values\": 4,\n        \"samples\": [\n          0.6703,\n          0.8571,\n          0.3736\n        ],\n        \"semantic_type\": \"\",\n        \"description\": \"\"\n      }\n    },\n    {\n      \"column\": \"acc_norm\",\n      \"properties\": {\n        \"dtype\": \"number\",\n        \"std\": 0.20050006442226728,\n        \"min\": 0.1429,\n        \"max\": 0.6264,\n        \"num_unique_values\": 4,\n        \"samples\": [\n          0.3297,\n          0.1429,\n          0.6264\n        ],\n        \"semantic_type\": \"\",\n        \"description\": \"\"\n      }\n    },\n    {\n      \"column\": \"correctness\",\n      \"properties\": {\n        \"dtype\": \"number\",\n        \"std\": 0.18265900835527746,\n        \"min\": 0.3297,\n        \"max\": 0.7253,\n        \"num_unique_values\": 4,\n        \"samples\": [\n          0.3516,\n          0.4286,\n          0.7253\n        ],\n        \"semantic_type\": \"\",\n        \"description\": \"\"\n      }\n    },\n    {\n      \"column\": \"precision\",\n      \"properties\": {\n        \"dtype\": \"number\",\n        \"std\": 0.14624478053364276,\n        \"min\": 0.3545,\n        \"max\": 0.66,\n        \"num_unique_values\": 4,\n        \"samples\": [\n          0.3855,\n          0.3545,\n          0.66\n        ],\n        \"semantic_type\": \"\",\n        \"description\": \"\"\n      }\n    },\n    {\n      \"column\": \"f1\",\n      \"properties\": {\n        \"dtype\": \"number\",\n        \"std\": 0.16264305498032597,\n        \"min\": 0.3468,\n        \"max\": 0.6911,\n        \"num_unique_values\": 4,\n        \"samples\": [\n          0.3678,\n          0.3881,\n          0.6911\n        ],\n        \"semantic_type\": \"\",\n        \"description\": \"\"\n      }\n    },\n    {\n      \"column\": \"ref_words\",\n      \"properties\": {\n        \"dtype\": \"number\",\n        \"std\": 0,\n        \"min\": 91,\n        \"max\": 91,\n        \"num_unique_values\": 1,\n        \"samples\": [\n          91\n        ],\n        \"semantic_type\": \"\",\n        \"description\": \"\"\n      }\n    },\n    {\n      \"column\": \"hyp_words\",\n      \"properties\": {\n        \"dtype\": \"number\",\n        \"std\": 13,\n        \"min\": 82,\n        \"max\": 110,\n        \"num_unique_values\": 4,\n        \"samples\": [\n          83\n        ],\n        \"semantic_type\": \"\",\n        \"description\": \"\"\n      }\n    },\n    {\n      \"column\": \"S\",\n      \"properties\": {\n        \"dtype\": \"number\",\n        \"std\": 11,\n        \"min\": 25,\n        \"max\": 51,\n        \"num_unique_values\": 4,\n        \"samples\": [\n          49\n        ],\n        \"semantic_type\": \"\",\n        \"description\": \"\"\n      }\n    },\n    {\n      \"column\": \"D\",\n      \"properties\": {\n        \"dtype\": \"number\",\n        \"std\": 4,\n        \"min\": 0,\n        \"max\": 10,\n        \"num_unique_values\": 3,\n        \"samples\": [\n          0\n        ],\n        \"semantic_type\": \"\",\n        \"description\": \"\"\n      }\n    },\n    {\n      \"column\": \"I\",\n      \"properties\": {\n        \"dtype\": \"number\",\n        \"std\": 11,\n        \"min\": 1,\n        \"max\": 26,\n        \"num_unique_values\": 4,\n        \"samples\": [\n          2\n        ],\n        \"semantic_type\": \"\",\n        \"description\": \"\"\n      }\n    },\n    {\n      \"column\": \"C\",\n      \"properties\": {\n        \"dtype\": \"number\",\n        \"std\": 16,\n        \"min\": 30,\n        \"max\": 66,\n        \"num_unique_values\": 4,\n        \"samples\": [\n          32\n        ],\n        \"semantic_type\": \"\",\n        \"description\": \"\"\n      }\n    },\n    {\n      \"column\": \"hyp_preview\",\n      \"properties\": {\n        \"dtype\": \"string\",\n        \"num_unique_values\": 4,\n        \"samples\": [\n          \"they would like you're defending their any to make sure you are climbing not been able to to roughly altitude a quarter \\u2026\"\n        ],\n        \"semantic_type\": \"\",\n        \"description\": \"\"\n      }\n    }\n  ]\n}"
            }
          },
          "metadata": {}
        },
        {
          "output_type": "stream",
          "name": "stdout",
          "text": [
            "Saved → /content/asr_eval_summary.csv\n"
          ]
        },
        {
          "output_type": "display_data",
          "data": {
            "text/plain": [
              "<Figure size 600x400 with 1 Axes>"
            ],
            "image/png": "[encoded data removed]"
          },
          "metadata": {}
        },
        {
          "output_type": "display_data",
          "data": {
            "text/plain": [
              "<Figure size 600x400 with 1 Axes>"
            ],
            "image/png": "[encoded data removed]"
          },
          "metadata": {}
        },
        {
          "output_type": "stream",
          "name": "stdout",
          "text": [
            "Best by acc_norm: whisper (62.64%)\n"
          ]
        }
      ]
    }
  ]
}